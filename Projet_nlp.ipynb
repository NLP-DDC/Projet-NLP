{
  "nbformat": 4,
  "nbformat_minor": 0,
  "metadata": {
    "kernelspec": {
      "display_name": "Python 3",
      "language": "python",
      "name": "python3"
    },
    "language_info": {
      "codemirror_mode": {
        "name": "ipython",
        "version": 3
      },
      "file_extension": ".py",
      "mimetype": "text/x-python",
      "name": "python",
      "nbconvert_exporter": "python",
      "pygments_lexer": "ipython3",
      "version": "3.6.12"
    },
    "colab": {
      "name": "Projet_nlp.ipynb",
      "provenance": [],
      "collapsed_sections": [],
      "toc_visible": true
    },
    "accelerator": "GPU"
  },
  "cells": [
    {
      "cell_type": "code",
      "metadata": {
        "id": "aesabpvzw2az"
      },
      "source": [
        "### Libraries \n",
        "import re\n",
        "import matplotlib\n",
        "import numpy as np\n",
        "import matplotlib.pyplot as plt\n",
        "import pandas as pd\n",
        "import seaborn as sns\n",
        "import pandas as pd\n",
        "from keras.models import Model\n",
        "from keras.preprocessing.text import Tokenizer\n",
        "from keras.preprocessing.sequence import pad_sequences\n",
        "from keras.utils import to_categorical\n",
        "from keras.models import Sequential\n",
        "from keras.layers import Dense, LSTM, Embedding, Input, Lambda, Dropout, Conv1D, GlobalMaxPooling1D, GlobalAveragePooling1D, concatenate, Bidirectional, SpatialDropout1D \n",
        "import keras.backend as K"
      ],
      "execution_count": 1,
      "outputs": []
    },
    {
      "cell_type": "code",
      "metadata": {
        "colab": {
          "base_uri": "https://localhost:8080/"
        },
        "id": "B_PzAF9iSB2w",
        "outputId": "ab8655ac-1930-414b-af91-dc9381f2493a"
      },
      "source": [
        "from google.colab import drive\n",
        "drive.mount('/content/drive')"
      ],
      "execution_count": 2,
      "outputs": [
        {
          "output_type": "stream",
          "text": [
            "Mounted at /content/drive\n"
          ],
          "name": "stdout"
        }
      ]
    },
    {
      "cell_type": "code",
      "metadata": {
        "colab": {
          "base_uri": "https://localhost:8080/",
          "height": 35
        },
        "id": "giX6a3UMxFST",
        "outputId": "5741719d-54f7-4d6f-ee03-a290fb823ca5"
      },
      "source": [
        "# Pour colab, test GPU \n",
        "import tensorflow as tf\n",
        "tf.test.gpu_device_name()"
      ],
      "execution_count": 3,
      "outputs": [
        {
          "output_type": "execute_result",
          "data": {
            "application/vnd.google.colaboratory.intrinsic+json": {
              "type": "string"
            },
            "text/plain": [
              "'/device:GPU:0'"
            ]
          },
          "metadata": {
            "tags": []
          },
          "execution_count": 3
        }
      ]
    },
    {
      "cell_type": "code",
      "metadata": {
        "id": "Nxp_byTEw2a2"
      },
      "source": [
        "# To be replace by your project's path\n",
        "\n",
        "#path = \"/users/dorian/Documents/M2_MASH/NLP/Project/Data/\"\n",
        "#path = \"/Users/dorian/Desktop/jigsaw-toxic-comment-classification-challenge/\"\n",
        "path = '/content/drive/MyDrive/'\n"
      ],
      "execution_count": 4,
      "outputs": []
    },
    {
      "cell_type": "code",
      "metadata": {
        "colab": {
          "base_uri": "https://localhost:8080/"
        },
        "id": "hHVAW6Dhw2a4",
        "outputId": "b97433ca-95b1-47e7-a9d3-ca314f9c4b79"
      },
      "source": [
        "train = pd.read_csv(path + \"train.csv\", sep=',', header=0)\n",
        "train.columns=['id', 'comment_text', 'toxic', 'severe_toxic',\n",
        "                        'obscene', 'threat', 'insult', 'identity_hate']\n",
        "\n",
        "print(\"taille_échantillon_train: \", train.shape[0])\n",
        "\n",
        "test = pd.read_csv(path + \"test.csv\", sep=',', header=0)\n",
        "test.columns=['id', 'comment_text']\n",
        "\n",
        "print(\"taille_échantillon_test: \", test.shape[0])\n",
        "\n",
        "label_names = [\"toxic\", \"severe_toxic\", \"obscene\", \"threat\", \"insult\", \"identity_hate\"]\n",
        "y_train = train[label_names].values"
      ],
      "execution_count": 5,
      "outputs": [
        {
          "output_type": "stream",
          "text": [
            "taille_échantillon_train:  159571\n",
            "taille_échantillon_test:  153164\n"
          ],
          "name": "stdout"
        }
      ]
    },
    {
      "cell_type": "markdown",
      "metadata": {
        "id": "LNWS-3mEw2a6"
      },
      "source": [
        "# Visualization"
      ]
    },
    {
      "cell_type": "code",
      "metadata": {
        "id": "Czv5pTBfw2a6"
      },
      "source": [
        "category_data = train.drop(['id', 'comment_text'], axis=1)"
      ],
      "execution_count": 6,
      "outputs": []
    },
    {
      "cell_type": "code",
      "metadata": {
        "colab": {
          "base_uri": "https://localhost:8080/",
          "height": 235
        },
        "id": "tj_rHBd5w2a9",
        "outputId": "ebcb11ef-89ef-46af-f75b-aaf68b99b21c"
      },
      "source": [
        "counts_category = []\n",
        "categories = list(category_data.columns.values)\n",
        "\n",
        "for i in categories:\n",
        "    counts_category.append((i, category_data[i].sum()))\n",
        "    \n",
        "dataframe = pd.DataFrame(counts_category, columns=['Labels', 'number_of_comments'])\n",
        "dataframe.head(6)"
      ],
      "execution_count": 7,
      "outputs": [
        {
          "output_type": "execute_result",
          "data": {
            "text/html": [
              "<div>\n",
              "<style scoped>\n",
              "    .dataframe tbody tr th:only-of-type {\n",
              "        vertical-align: middle;\n",
              "    }\n",
              "\n",
              "    .dataframe tbody tr th {\n",
              "        vertical-align: top;\n",
              "    }\n",
              "\n",
              "    .dataframe thead th {\n",
              "        text-align: right;\n",
              "    }\n",
              "</style>\n",
              "<table border=\"1\" class=\"dataframe\">\n",
              "  <thead>\n",
              "    <tr style=\"text-align: right;\">\n",
              "      <th></th>\n",
              "      <th>Labels</th>\n",
              "      <th>number_of_comments</th>\n",
              "    </tr>\n",
              "  </thead>\n",
              "  <tbody>\n",
              "    <tr>\n",
              "      <th>0</th>\n",
              "      <td>toxic</td>\n",
              "      <td>15294</td>\n",
              "    </tr>\n",
              "    <tr>\n",
              "      <th>1</th>\n",
              "      <td>severe_toxic</td>\n",
              "      <td>1595</td>\n",
              "    </tr>\n",
              "    <tr>\n",
              "      <th>2</th>\n",
              "      <td>obscene</td>\n",
              "      <td>8449</td>\n",
              "    </tr>\n",
              "    <tr>\n",
              "      <th>3</th>\n",
              "      <td>threat</td>\n",
              "      <td>478</td>\n",
              "    </tr>\n",
              "    <tr>\n",
              "      <th>4</th>\n",
              "      <td>insult</td>\n",
              "      <td>7877</td>\n",
              "    </tr>\n",
              "    <tr>\n",
              "      <th>5</th>\n",
              "      <td>identity_hate</td>\n",
              "      <td>1405</td>\n",
              "    </tr>\n",
              "  </tbody>\n",
              "</table>\n",
              "</div>"
            ],
            "text/plain": [
              "          Labels  number_of_comments\n",
              "0          toxic               15294\n",
              "1   severe_toxic                1595\n",
              "2        obscene                8449\n",
              "3         threat                 478\n",
              "4         insult                7877\n",
              "5  identity_hate                1405"
            ]
          },
          "metadata": {
            "tags": []
          },
          "execution_count": 7
        }
      ]
    },
    {
      "cell_type": "code",
      "metadata": {
        "colab": {
          "base_uri": "https://localhost:8080/",
          "height": 589
        },
        "id": "wpI05hXiw2a-",
        "outputId": "cfb75d82-235b-4835-dc36-02837caa7d23"
      },
      "source": [
        "dataframe.plot(x='Labels', y='number_of_comments', kind='bar',figsize=(8,8))\n",
        "plt.title(\"Number of comments per category\")\n",
        "plt.ylabel('Number of Occurrences', fontsize=12)\n",
        "plt.xlabel('Labels', fontsize=12)"
      ],
      "execution_count": 8,
      "outputs": [
        {
          "output_type": "execute_result",
          "data": {
            "text/plain": [
              "Text(0.5, 0, 'Labels')"
            ]
          },
          "metadata": {
            "tags": []
          },
          "execution_count": 8
        },
        {
          "output_type": "display_data",
          "data": {
            "image/png": "[encoded data removed]",
            "text/plain": [
              "<Figure size 576x576 with 1 Axes>"
            ]
          },
          "metadata": {
            "tags": [],
            "needs_background": "light"
          }
        }
      ]
    },
    {
      "cell_type": "code",
      "metadata": {
        "colab": {
          "base_uri": "https://localhost:8080/",
          "height": 915
        },
        "id": "y5yi8GUiw2bE",
        "outputId": "8bc37dd7-bb2a-43b9-ac2d-ccb929664344"
      },
      "source": [
        "fig, plots = plt.subplots(2,3,figsize=(15,12))\n",
        "plot1, plot2, plot3, plot4, plot5, plot6 = plots.flatten()\n",
        "sns.countplot(train['obscene'], ax = plot1)\n",
        "sns.countplot(train['threat'], ax = plot2)\n",
        "sns.countplot(train['insult'], ax = plot3)\n",
        "sns.countplot(train['identity_hate'], ax = plot4)\n",
        "sns.countplot(train['toxic'], ax = plot5)\n",
        "sns.countplot(train['severe_toxic'], ax = plot6)"
      ],
      "execution_count": 9,
      "outputs": [
        {
          "output_type": "stream",
          "text": [
            "/usr/local/lib/python3.7/dist-packages/seaborn/_decorators.py:43: FutureWarning: Pass the following variable as a keyword arg: x. From version 0.12, the only valid positional argument will be `data`, and passing other arguments without an explicit keyword will result in an error or misinterpretation.\n",
            "  FutureWarning\n",
            "/usr/local/lib/python3.7/dist-packages/seaborn/_decorators.py:43: FutureWarning: Pass the following variable as a keyword arg: x. From version 0.12, the only valid positional argument will be `data`, and passing other arguments without an explicit keyword will result in an error or misinterpretation.\n",
            "  FutureWarning\n",
            "/usr/local/lib/python3.7/dist-packages/seaborn/_decorators.py:43: FutureWarning: Pass the following variable as a keyword arg: x. From version 0.12, the only valid positional argument will be `data`, and passing other arguments without an explicit keyword will result in an error or misinterpretation.\n",
            "  FutureWarning\n",
            "/usr/local/lib/python3.7/dist-packages/seaborn/_decorators.py:43: FutureWarning: Pass the following variable as a keyword arg: x. From version 0.12, the only valid positional argument will be `data`, and passing other arguments without an explicit keyword will result in an error or misinterpretation.\n",
            "  FutureWarning\n",
            "/usr/local/lib/python3.7/dist-packages/seaborn/_decorators.py:43: FutureWarning: Pass the following variable as a keyword arg: x. From version 0.12, the only valid positional argument will be `data`, and passing other arguments without an explicit keyword will result in an error or misinterpretation.\n",
            "  FutureWarning\n",
            "/usr/local/lib/python3.7/dist-packages/seaborn/_decorators.py:43: FutureWarning: Pass the following variable as a keyword arg: x. From version 0.12, the only valid positional argument will be `data`, and passing other arguments without an explicit keyword will result in an error or misinterpretation.\n",
            "  FutureWarning\n"
          ],
          "name": "stderr"
        },
        {
          "output_type": "execute_result",
          "data": {
            "text/plain": [
              "<matplotlib.axes._subplots.AxesSubplot at 0x7fe257ca3d10>"
            ]
          },
          "metadata": {
            "tags": []
          },
          "execution_count": 9
        },
        {
          "output_type": "display_data",
          "data": {
            "image/png": "[encoded data removed]",
            "text/plain": [
              "<Figure size 1080x864 with 6 Axes>"
            ]
          },
          "metadata": {
            "tags": [],
            "needs_background": "light"
          }
        }
      ]
    },
    {
      "cell_type": "code",
      "metadata": {
        "colab": {
          "base_uri": "https://localhost:8080/",
          "height": 325
        },
        "id": "feooC2vXw2bF",
        "outputId": "c7f0bd95-f7e4-461e-b7f3-82cf69a9ed8b"
      },
      "source": [
        "target_data = train.drop(['id', 'comment_text'], axis=1)\n",
        "corrMatrix = target_data.corr()\n",
        "sns.heatmap(corrMatrix, annot=True)\n",
        "plt.show()"
      ],
      "execution_count": 10,
      "outputs": [
        {
          "output_type": "display_data",
          "data": {
            "image/png": "[encoded data removed]",
            "text/plain": [
              "<Figure size 432x288 with 2 Axes>"
            ]
          },
          "metadata": {
            "tags": [],
            "needs_background": "light"
          }
        }
      ]
    },
    {
      "cell_type": "code",
      "metadata": {
        "id": "niWU-0fLw2bG"
      },
      "source": [
        "Stopwords = [\"i\", \"me\", \"my\", \"myself\", \"we\", \"our\", \"ours\", \"ourselves\", \"you\", \"your\", \"yours\", \"yourself\", \n",
        "             \"yourselves\", \"he\", \"him\", \"his\", \"himself\", \"she\", \"her\", \"hers\", \"herself\", \"it\", \"its\", \"itself\", \n",
        "             \"they\", \"them\", \"their\", \"theirs\", \"themselves\", \"what\", \"which\", \"who\", \"whom\", \"this\", \"that\", \n",
        "             \"these\", \"those\", \"am\", \"is\", \"are\", \"was\", \"were\", \"be\", \"been\", \"being\", \"have\", \"has\", \"had\", \n",
        "             \"having\", \"do\", \"does\", \"did\", \"doing\", \"a\", \"an\", \"the\", \"and\", \"but\", \"if\", \"or\", \"because\", \"as\", \n",
        "             \"until\", \"while\", \"of\", \"at\", \"by\", \"for\", \"with\", \"about\", \"against\", \"between\", \"into\", \"through\", \n",
        "             \"during\", \"before\", \"after\", \"above\", \"below\", \"to\", \"from\", \"up\", \"down\", \"in\", \"out\", \"on\", \"off\", \n",
        "             \"over\", \"under\", \"again\", \"further\", \"then\", \"once\", \"here\", \"there\", \"when\", \"where\", \"why\", \"how\", \n",
        "             \"all\", \"any\", \"both\", \"each\", \"few\", \"more\", \"most\", \"other\", \"some\", \"such\", \"no\", \"nor\", \"not\", \n",
        "             \"only\", \"own\", \"same\", \"so\", \"than\", \"too\", \"very\", \"s\", \"t\", \"can\", \"will\", \"just\", \"don\", \"should\", \n",
        "             \"now\"]"
      ],
      "execution_count": 11,
      "outputs": []
    },
    {
      "cell_type": "code",
      "metadata": {
        "id": "aNA5L-iUw2bH"
      },
      "source": [
        "def clean_text(text):\n",
        "    text = text.lower()\n",
        "    text = re.sub(r\"what's\", \"what is \", text)\n",
        "    text = re.sub(r\"\\'s\", \" \", text)\n",
        "    text = re.sub(r\"\\'ve\", \" have \", text)\n",
        "    text = re.sub(r\"can't\", \"can not \", text)\n",
        "    text = re.sub(r\"n't\", \" not \", text)\n",
        "    text = re.sub(r\"i'm\", \"i am \", text)\n",
        "    text = re.sub(r\"\\'re\", \" are \", text)\n",
        "    text = re.sub(r\"\\'d\", \" would \", text)\n",
        "    text = re.sub(r\"\\'ll\", \" will \", text)\n",
        "    text = re.sub(r\"\\'scuse\", \" excuse \", text)\n",
        "    text = re.sub('\\W', ' ', text)\n",
        "    text = re.sub('[^A-Za-z\\' ]+', '',text)\n",
        "    text = re.sub('\\s+', ' ', text)\n",
        "    text = text.strip(' ')\n",
        "    text = ' '.join([word for word in text.split() if word not in Stopwords])   \n",
        "    return text\n",
        "\n",
        "train[\"comment_text\"] = train[\"comment_text\"].apply(clean_text)\n",
        "test[\"comment_text\"] = test[\"comment_text\"].apply(clean_text)"
      ],
      "execution_count": 12,
      "outputs": []
    },
    {
      "cell_type": "code",
      "metadata": {
        "id": "d0swwBYjw2bO"
      },
      "source": [
        "train_data = train[\"comment_text\"]\n",
        "test_data = test[\"comment_text\"]\n",
        "train_label=train[['toxic', 'severe_toxic', 'obscene', 'threat','insult', 'identity_hate']]"
      ],
      "execution_count": 13,
      "outputs": []
    },
    {
      "cell_type": "markdown",
      "metadata": {
        "id": "ASZqn8vDUCrr"
      },
      "source": [
        "### CBOW"
      ]
    },
    {
      "cell_type": "code",
      "metadata": {
        "id": "3rqgxeHUw2bO",
        "colab": {
          "base_uri": "https://localhost:8080/"
        },
        "outputId": "56088f3f-f8e0-45d2-d20c-4aae663845fa"
      },
      "source": [
        "max_features=20000\n",
        "maxlen=150\n",
        "embed_size=300\n",
        "\n",
        "tokenizer = Tokenizer(num_words = max_features) \n",
        "tokenizer.fit_on_texts(train_data)\n",
        "\n",
        "#convert each text into array of integers with help of tokenizer.\n",
        "train_final = tokenizer.texts_to_sequences(train_data)\n",
        "test_final = tokenizer.texts_to_sequences(test_data)\n",
        "\n",
        "# Each sentence is cut after the 150th word\n",
        "train_padded =pad_sequences(train_final, maxlen=maxlen)\n",
        "test_padded =pad_sequences(test_final, maxlen=maxlen)\n",
        "print(\"Shape of training data\",train_padded.shape)\n",
        "print(\"Shape of testing data\",test_padded.shape)\n",
        "\n",
        "# A changer avec le path correspondant \n",
        "path_embedded = \"/Users/dorian/Downloads/\"\n",
        "\n",
        "EMBEDDING_FILE = path + \"glove.840B.300d.txt\"\n",
        "\n",
        "embeddings_index = {}\n",
        "with open(EMBEDDING_FILE, encoding='utf8') as f:\n",
        "    for line in f:\n",
        "        values = line.rstrip().rsplit(' ')\n",
        "        word = values[0]\n",
        "        coefs = np.asarray(values[1:], dtype='float32')\n",
        "        embeddings_index[word] = coefs\n",
        "\n",
        "word_index = tokenizer.word_index\n",
        "num_words = min(max_features, len(word_index) + 1)\n",
        "embedding_matrix = np.zeros((num_words, embed_size))\n",
        "\n",
        "for word, i in word_index.items():\n",
        "    if i >= max_features:\n",
        "        continue\n",
        "    \n",
        "    embedding_vector = embeddings_index.get(word)\n",
        "    if embedding_vector is not None:\n",
        "        embedding_matrix[i] = embedding_vector"
      ],
      "execution_count": null,
      "outputs": [
        {
          "output_type": "stream",
          "text": [
            "Shape of training data (159571, 150)\n",
            "Shape of testing data (153164, 150)\n"
          ],
          "name": "stdout"
        }
      ]
    },
    {
      "cell_type": "code",
      "metadata": {
        "colab": {
          "base_uri": "https://localhost:8080/"
        },
        "id": "QKyiGYBWWN4f",
        "outputId": "211288ac-c74c-47a6-f24c-90bf511f91f5"
      },
      "source": [
        "model_cbow = Sequential()\n",
        "\n",
        "model_cbow.add(Embedding(max_features,\n",
        "                    embed_size,\n",
        "                    input_length=maxlen))\n",
        "model_cbow.add(Dropout(0.2))\n",
        "model_cbow.add(Lambda(lambda x: K.sum(x, axis=1)))\n",
        "model_cbow.add(Dense(6, activation = 'sigmoid'))\n",
        "\n",
        "epochs = 1\n",
        "\n",
        "model_cbow.compile(optimizer=\"adam\",\n",
        "              loss='binary_crossentropy',\n",
        "              metrics=['accuracy'])\n",
        "\n",
        "model_cbow.summary()"
      ],
      "execution_count": null,
      "outputs": [
        {
          "output_type": "stream",
          "text": [
            "Model: \"sequential\"\n",
            "_________________________________________________________________\n",
            "Layer (type)                 Output Shape              Param #   \n",
            "=================================================================\n",
            "embedding (Embedding)        (None, 150, 300)          6000000   \n",
            "_________________________________________________________________\n",
            "dropout (Dropout)            (None, 150, 300)          0         \n",
            "_________________________________________________________________\n",
            "lambda (Lambda)              (None, 300)               0         \n",
            "_________________________________________________________________\n",
            "dense (Dense)                (None, 6)                 1806      \n",
            "=================================================================\n",
            "Total params: 6,001,806\n",
            "Trainable params: 6,001,806\n",
            "Non-trainable params: 0\n",
            "_________________________________________________________________\n"
          ],
          "name": "stdout"
        }
      ]
    },
    {
      "cell_type": "code",
      "metadata": {
        "colab": {
          "base_uri": "https://localhost:8080/"
        },
        "id": "v1kcSIMpWTRs",
        "outputId": "3e8cad08-32a9-49ec-f5a8-a9bd402a4957"
      },
      "source": [
        "model_cbow.fit(train_padded, train_label, epochs=epochs)\n",
        "\n",
        "submission = pd.read_csv(path + 'sample_submission.csv')\n",
        "y_pred = model_cbow.predict(test_padded)\n",
        "submission[[\"toxic\", \"severe_toxic\", \"obscene\", \"threat\", \"insult\", \"identity_hate\"]] = y_pred\n",
        "submission.to_csv('submission_cbow.csv', index=False)"
      ],
      "execution_count": null,
      "outputs": [
        {
          "output_type": "stream",
          "text": [
            "4987/4987 [==============================] - 301s 60ms/step - loss: 0.1156 - accuracy: 0.4509\n"
          ],
          "name": "stdout"
        }
      ]
    },
    {
      "cell_type": "markdown",
      "metadata": {
        "id": "KOPda1DUYZwj"
      },
      "source": [
        "# Preprocessing pour le reste des modèles "
      ]
    },
    {
      "cell_type": "code",
      "metadata": {
        "colab": {
          "base_uri": "https://localhost:8080/"
        },
        "id": "1MtHn07HYXz-",
        "outputId": "8ab352c8-8d9c-4263-c25f-e84bc01ea023"
      },
      "source": [
        "max_features=100000\n",
        "maxlen=150\n",
        "embed_size=300\n",
        "\n",
        "tokenizer = Tokenizer(num_words = max_features) \n",
        "tokenizer.fit_on_texts(train_data)\n",
        "\n",
        "#convert each text into array of integers with help of tokenizer.\n",
        "train_final = tokenizer.texts_to_sequences(train_data)\n",
        "test_final = tokenizer.texts_to_sequences(test_data)\n",
        "\n",
        "# Each sentence is cut after the 150th word\n",
        "train_padded =pad_sequences(train_final, maxlen=maxlen)\n",
        "test_padded =pad_sequences(test_final, maxlen=maxlen)\n",
        "print(\"Shape of training data\",train_padded.shape)\n",
        "print(\"Shape of testing data\",test_padded.shape)\n",
        "\n",
        "# A changer avec le path correspondant \n",
        "path_embedded = \"/Users/dorian/Downloads/\"\n",
        "\n",
        "EMBEDDING_FILE = path + \"glove.840B.300d.txt\"\n",
        "\n",
        "embeddings_index = {}\n",
        "with open(EMBEDDING_FILE, encoding='utf8') as f:\n",
        "    for line in f:\n",
        "        values = line.rstrip().rsplit(' ')\n",
        "        word = values[0]\n",
        "        coefs = np.asarray(values[1:], dtype='float32')\n",
        "        embeddings_index[word] = coefs\n",
        "\n",
        "word_index = tokenizer.word_index\n",
        "num_words = min(max_features, len(word_index) + 1)\n",
        "embedding_matrix = np.zeros((num_words, embed_size))\n",
        "\n",
        "for word, i in word_index.items():\n",
        "    if i >= max_features:\n",
        "        continue\n",
        "    \n",
        "    embedding_vector = embeddings_index.get(word)\n",
        "    if embedding_vector is not None:\n",
        "        embedding_matrix[i] = embedding_vector"
      ],
      "execution_count": 14,
      "outputs": [
        {
          "output_type": "stream",
          "text": [
            "Shape of training data (159571, 150)\n",
            "Shape of testing data (153164, 150)\n"
          ],
          "name": "stdout"
        }
      ]
    },
    {
      "cell_type": "markdown",
      "metadata": {
        "id": "ABzdWWTOw2bW"
      },
      "source": [
        "# CNN"
      ]
    },
    {
      "cell_type": "code",
      "metadata": {
        "id": "r_8Jb5OYw2bg",
        "colab": {
          "base_uri": "https://localhost:8080/"
        },
        "outputId": "4dcf6b7a-14dc-43fb-9a44-d7d92dd1656c"
      },
      "source": [
        "model_CNN = Sequential()\n",
        "model_CNN.add(Embedding(max_features,\n",
        "                    embed_size,\n",
        "                    input_length=maxlen))\n",
        "model_CNN.add(Dropout(0.2))\n",
        "model_CNN.add(Conv1D(128, 5, activation='relu'))\n",
        "model_CNN.add(GlobalMaxPooling1D())\n",
        "model_CNN.add(Dense(40, activation='relu'))\n",
        "model_CNN.add(Dense(6, activation='sigmoid'))\n",
        "model_CNN.compile(optimizer='adam',\n",
        "              loss='binary_crossentropy',\n",
        "              metrics=['accuracy'])\n",
        "model_CNN.summary()\n",
        "\n",
        "epochs = 1"
      ],
      "execution_count": null,
      "outputs": [
        {
          "output_type": "stream",
          "text": [
            "Model: \"sequential_1\"\n",
            "_________________________________________________________________\n",
            "Layer (type)                 Output Shape              Param #   \n",
            "=================================================================\n",
            "embedding_1 (Embedding)      (None, 150, 300)          30000000  \n",
            "_________________________________________________________________\n",
            "dropout_1 (Dropout)          (None, 150, 300)          0         \n",
            "_________________________________________________________________\n",
            "conv1d (Conv1D)              (None, 146, 128)          192128    \n",
            "_________________________________________________________________\n",
            "global_max_pooling1d (Global (None, 128)               0         \n",
            "_________________________________________________________________\n",
            "dense_1 (Dense)              (None, 40)                5160      \n",
            "_________________________________________________________________\n",
            "dense_2 (Dense)              (None, 6)                 246       \n",
            "=================================================================\n",
            "Total params: 30,197,534\n",
            "Trainable params: 30,197,534\n",
            "Non-trainable params: 0\n",
            "_________________________________________________________________\n"
          ],
          "name": "stdout"
        }
      ]
    },
    {
      "cell_type": "code",
      "metadata": {
        "id": "ztNgv1Idw2bh",
        "colab": {
          "base_uri": "https://localhost:8080/"
        },
        "outputId": "ee6e2bc3-ef0a-4d41-b435-471a62e67626"
      },
      "source": [
        "model_CNN.fit(train_padded, train_label, epochs=epochs)\n",
        "\n",
        "submission = pd.read_csv(path + 'sample_submission.csv')\n",
        "y_pred = model_CNN.predict(test_padded)\n",
        "submission[[\"toxic\", \"severe_toxic\", \"obscene\", \"threat\", \"insult\", \"identity_hate\"]] = y_pred\n",
        "submission.to_csv('submission_cnn.csv', index=False)"
      ],
      "execution_count": null,
      "outputs": [
        {
          "output_type": "stream",
          "text": [
            "4987/4987 [==============================] - 1434s 281ms/step - loss: 0.0779 - accuracy: 0.9641\n"
          ],
          "name": "stdout"
        }
      ]
    },
    {
      "cell_type": "markdown",
      "metadata": {
        "id": "mtRF7Z1Ow2bi"
      },
      "source": [
        "# LSTM "
      ]
    },
    {
      "cell_type": "code",
      "metadata": {
        "id": "ONYPXrUXw2bi",
        "colab": {
          "base_uri": "https://localhost:8080/"
        },
        "outputId": "02cccd12-44c3-4d0a-cf4a-4ae2581cd511"
      },
      "source": [
        "model = Sequential()\n",
        "model.add(Embedding(max_features, embed_size, input_length = maxlen))\n",
        "model.add(LSTM(units = 64, dropout = 0.2, return_sequences=True))\n",
        "model.add(LSTM(units = 64, dropout = 0.2))\n",
        "model.add(Dense(units = 6, activation = 'sigmoid'))\n",
        "\n",
        "model.compile(loss = \"binary_crossentropy\", optimizer = \"adam\", metrics = [\"accuracy\"])\n",
        "\n",
        "model.summary()"
      ],
      "execution_count": null,
      "outputs": [
        {
          "output_type": "stream",
          "text": [
            "Model: \"sequential_6\"\n",
            "_________________________________________________________________\n",
            "Layer (type)                 Output Shape              Param #   \n",
            "=================================================================\n",
            "embedding_6 (Embedding)      (None, 150, 300)          30000000  \n",
            "_________________________________________________________________\n",
            "lstm_6 (LSTM)                (None, 150, 64)           93440     \n",
            "_________________________________________________________________\n",
            "lstm_7 (LSTM)                (None, 64)                33024     \n",
            "_________________________________________________________________\n",
            "dense_8 (Dense)              (None, 6)                 390       \n",
            "=================================================================\n",
            "Total params: 30,126,854\n",
            "Trainable params: 30,126,854\n",
            "Non-trainable params: 0\n",
            "_________________________________________________________________\n"
          ],
          "name": "stdout"
        }
      ]
    },
    {
      "cell_type": "code",
      "metadata": {
        "id": "_rDEhB5xw2bk",
        "colab": {
          "base_uri": "https://localhost:8080/"
        },
        "outputId": "4b74cc6b-0051-4e52-bebf-8e2329d16f10"
      },
      "source": [
        "model.fit(train_padded, train_label, batch_size = 32, epochs = 1)"
      ],
      "execution_count": null,
      "outputs": [
        {
          "output_type": "stream",
          "text": [
            "4987/4987 [==============================] - 1434s 287ms/step - loss: 0.0889 - accuracy: 0.9873\n"
          ],
          "name": "stdout"
        },
        {
          "output_type": "execute_result",
          "data": {
            "text/plain": [
              "<tensorflow.python.keras.callbacks.History at 0x7fb3d4660710>"
            ]
          },
          "metadata": {
            "tags": []
          },
          "execution_count": 35
        }
      ]
    },
    {
      "cell_type": "code",
      "metadata": {
        "id": "TYAUWHeifvre"
      },
      "source": [
        "submission = pd.read_csv(path + 'sample_submission.csv')\n",
        "y_pred = model.predict(test_padded)\n",
        "submission[[\"toxic\", \"severe_toxic\", \"obscene\", \"threat\", \"insult\", \"identity_hate\"]] = y_pred\n",
        "submission.to_csv('submission_lstm_64.csv', index=False)"
      ],
      "execution_count": null,
      "outputs": []
    },
    {
      "cell_type": "markdown",
      "metadata": {
        "id": "RTdxuCW-w2bp"
      },
      "source": [
        "## CNN embd"
      ]
    },
    {
      "cell_type": "code",
      "metadata": {
        "id": "KWoTIlcsw2bp",
        "colab": {
          "base_uri": "https://localhost:8080/"
        },
        "outputId": "70054a21-e045-403f-ac70-dade0c343a82"
      },
      "source": [
        "model_CNN_embd = Sequential()\n",
        "\n",
        "model_CNN_embd.add(Embedding(max_features, embed_size, weights=[embedding_matrix],\n",
        "                              trainable=True,input_length=maxlen))\n",
        "model_CNN_embd.add(Dropout(0.2))\n",
        "model_CNN_embd.add(Conv1D(128, 5, activation='relu'))\n",
        "model_CNN_embd.add(GlobalMaxPooling1D())\n",
        "model_CNN_embd.add(Dense(40, activation='relu'))\n",
        "model_CNN_embd.add(Dense(6, activation='sigmoid'))\n",
        "model_CNN_embd.compile(optimizer='adam',\n",
        "              loss='binary_crossentropy',\n",
        "              metrics=['accuracy'])\n",
        "model_CNN_embd.summary()\n",
        "\n",
        "epochs = 1"
      ],
      "execution_count": null,
      "outputs": [
        {
          "output_type": "stream",
          "text": [
            "Model: \"sequential_5\"\n",
            "_________________________________________________________________\n",
            "Layer (type)                 Output Shape              Param #   \n",
            "=================================================================\n",
            "embedding_5 (Embedding)      (None, 150, 300)          30000000  \n",
            "_________________________________________________________________\n",
            "dropout_2 (Dropout)          (None, 150, 300)          0         \n",
            "_________________________________________________________________\n",
            "conv1d_1 (Conv1D)            (None, 146, 128)          192128    \n",
            "_________________________________________________________________\n",
            "global_max_pooling1d_1 (Glob (None, 128)               0         \n",
            "_________________________________________________________________\n",
            "dense_6 (Dense)              (None, 40)                5160      \n",
            "_________________________________________________________________\n",
            "dense_7 (Dense)              (None, 6)                 246       \n",
            "=================================================================\n",
            "Total params: 30,197,534\n",
            "Trainable params: 30,197,534\n",
            "Non-trainable params: 0\n",
            "_________________________________________________________________\n"
          ],
          "name": "stdout"
        }
      ]
    },
    {
      "cell_type": "code",
      "metadata": {
        "id": "Sipu1HLKw2bq",
        "colab": {
          "base_uri": "https://localhost:8080/"
        },
        "outputId": "8399791b-e43c-440e-bae8-d17686c21d60"
      },
      "source": [
        "model_CNN_embd.fit(train_padded, train_label, epochs=epochs)"
      ],
      "execution_count": null,
      "outputs": [
        {
          "output_type": "stream",
          "text": [
            "4987/4987 [==============================] - 1362s 273ms/step - loss: 0.0611 - accuracy: 0.9022\n"
          ],
          "name": "stdout"
        },
        {
          "output_type": "execute_result",
          "data": {
            "text/plain": [
              "<tensorflow.python.keras.callbacks.History at 0x7fb3ca083250>"
            ]
          },
          "metadata": {
            "tags": []
          },
          "execution_count": 32
        }
      ]
    },
    {
      "cell_type": "code",
      "metadata": {
        "id": "Axl8ucQXw2br"
      },
      "source": [
        "submission = pd.read_csv(path + 'sample_submission.csv')\n",
        "y_pred = model_CNN_embd.predict(test_padded)\n",
        "submission[[\"toxic\", \"severe_toxic\", \"obscene\", \"threat\", \"insult\", \"identity_hate\"]] = y_pred\n",
        "submission.to_csv('submission_cnn_embd.csv', index=False)"
      ],
      "execution_count": null,
      "outputs": []
    },
    {
      "cell_type": "markdown",
      "metadata": {
        "id": "aCGNsE4qw2bs"
      },
      "source": [
        "## LSTM_embd"
      ]
    },
    {
      "cell_type": "code",
      "metadata": {
        "id": "TZRkrGHDw2bs",
        "colab": {
          "base_uri": "https://localhost:8080/"
        },
        "outputId": "dc5c8837-927c-4e62-9088-ecd7c78040b6"
      },
      "source": [
        "model = Sequential()\n",
        "model.add(Embedding(max_features, embed_size, weights=[embedding_matrix],\n",
        "                              trainable=True,input_length=maxlen))\n",
        "model.add(LSTM(units = 64, dropout = 0.2, return_sequences=True))\n",
        "model.add(LSTM(units = 64, dropout = 0.2))\n",
        "model.add(Dense(units = 6, activation = 'sigmoid'))\n",
        "model.summary()\n",
        "\n",
        "model.compile(loss = \"binary_crossentropy\", optimizer = \"adam\", metrics = [\"accuracy\"])"
      ],
      "execution_count": 18,
      "outputs": [
        {
          "output_type": "stream",
          "text": [
            "Model: \"sequential_2\"\n",
            "_________________________________________________________________\n",
            "Layer (type)                 Output Shape              Param #   \n",
            "=================================================================\n",
            "embedding_2 (Embedding)      (None, 150, 300)          30000000  \n",
            "_________________________________________________________________\n",
            "lstm_4 (LSTM)                (None, 150, 64)           93440     \n",
            "_________________________________________________________________\n",
            "lstm_5 (LSTM)                (None, 64)                33024     \n",
            "_________________________________________________________________\n",
            "dense_2 (Dense)              (None, 6)                 390       \n",
            "=================================================================\n",
            "Total params: 30,126,854\n",
            "Trainable params: 30,126,854\n",
            "Non-trainable params: 0\n",
            "_________________________________________________________________\n"
          ],
          "name": "stdout"
        }
      ]
    },
    {
      "cell_type": "code",
      "metadata": {
        "id": "ZVNrCvXWw2bs",
        "colab": {
          "base_uri": "https://localhost:8080/"
        },
        "outputId": "344ac0d7-b5af-4031-850e-f12e790cbc02"
      },
      "source": [
        "model.fit(train_padded, train_label, batch_size = 32, epochs = 1)"
      ],
      "execution_count": 19,
      "outputs": [
        {
          "output_type": "stream",
          "text": [
            "4987/4987 [==============================] - 1424s 285ms/step - loss: 0.0702 - accuracy: 0.9656\n"
          ],
          "name": "stdout"
        },
        {
          "output_type": "execute_result",
          "data": {
            "text/plain": [
              "<tensorflow.python.keras.callbacks.History at 0x7fe265ccf6d0>"
            ]
          },
          "metadata": {
            "tags": []
          },
          "execution_count": 19
        }
      ]
    },
    {
      "cell_type": "code",
      "metadata": {
        "id": "UMRLjvuRz7NT"
      },
      "source": [
        "submission = pd.read_csv(path + 'sample_submission.csv')\n",
        "y_pred = model.predict(test_padded)\n",
        "submission[[\"toxic\", \"severe_toxic\", \"obscene\", \"threat\", \"insult\", \"identity_hate\"]] = y_pred\n",
        "submission.to_csv('submission_lstm_embd.csv', index=False)"
      ],
      "execution_count": 20,
      "outputs": []
    },
    {
      "cell_type": "markdown",
      "metadata": {
        "id": "1Jgwq_CPw2bu"
      },
      "source": [
        "## BI LSTM"
      ]
    },
    {
      "cell_type": "code",
      "metadata": {
        "id": "JWKsiluVw2bv",
        "colab": {
          "base_uri": "https://localhost:8080/"
        },
        "outputId": "8640c943-afb7-4d69-e651-7091c159e31e"
      },
      "source": [
        "# Build Model\n",
        "inp = Input(shape=(maxlen,))\n",
        "\n",
        "x = Embedding(max_features, embed_size, weights=[embedding_matrix], trainable=True)(inp)\n",
        "x = SpatialDropout1D(0.4)(x)\n",
        "\n",
        "x = Bidirectional(LSTM(128, return_sequences=True, dropout=0.15))(x)\n",
        "x = Conv1D(64, kernel_size=3, padding='valid', kernel_initializer='glorot_uniform')(x)\n",
        "\n",
        "avg_pool = GlobalAveragePooling1D()(x)\n",
        "max_pool = GlobalMaxPooling1D()(x)\n",
        "x = concatenate([avg_pool, max_pool])\n",
        "\n",
        "out = Dense(6, activation='sigmoid')(x)\n",
        "\n",
        "model = Model(inp, out)\n",
        "model.compile(loss='binary_crossentropy', optimizer='adam', metrics=['accuracy'])\n",
        "\n",
        "model.summary()"
      ],
      "execution_count": 29,
      "outputs": [
        {
          "output_type": "stream",
          "text": [
            "Model: \"model_3\"\n",
            "__________________________________________________________________________________________________\n",
            "Layer (type)                    Output Shape         Param #     Connected to                     \n",
            "==================================================================================================\n",
            "input_4 (InputLayer)            [(None, 150)]        0                                            \n",
            "__________________________________________________________________________________________________\n",
            "embedding_6 (Embedding)         (None, 150, 300)     30000000    input_4[0][0]                    \n",
            "__________________________________________________________________________________________________\n",
            "spatial_dropout1d_3 (SpatialDro (None, 150, 300)     0           embedding_6[0][0]                \n",
            "__________________________________________________________________________________________________\n",
            "bidirectional_3 (Bidirectional) (None, 150, 256)     439296      spatial_dropout1d_3[0][0]        \n",
            "__________________________________________________________________________________________________\n",
            "conv1d_3 (Conv1D)               (None, 148, 64)      49216       bidirectional_3[0][0]            \n",
            "__________________________________________________________________________________________________\n",
            "global_average_pooling1d_3 (Glo (None, 64)           0           conv1d_3[0][0]                   \n",
            "__________________________________________________________________________________________________\n",
            "global_max_pooling1d_3 (GlobalM (None, 64)           0           conv1d_3[0][0]                   \n",
            "__________________________________________________________________________________________________\n",
            "concatenate_3 (Concatenate)     (None, 128)          0           global_average_pooling1d_3[0][0] \n",
            "                                                                 global_max_pooling1d_3[0][0]     \n",
            "__________________________________________________________________________________________________\n",
            "dense_6 (Dense)                 (None, 6)            774         concatenate_3[0][0]              \n",
            "==================================================================================================\n",
            "Total params: 30,489,286\n",
            "Trainable params: 30,489,286\n",
            "Non-trainable params: 0\n",
            "__________________________________________________________________________________________________\n"
          ],
          "name": "stdout"
        }
      ]
    },
    {
      "cell_type": "code",
      "metadata": {
        "id": "YTJYOHTkw2bw",
        "colab": {
          "base_uri": "https://localhost:8080/"
        },
        "outputId": "f5273b77-9cd7-48c0-bc87-66254ce03a0f"
      },
      "source": [
        "epochs = 1\n",
        "\n",
        "model.fit(train_padded, train_label, epochs = epochs)"
      ],
      "execution_count": 30,
      "outputs": [
        {
          "output_type": "stream",
          "text": [
            "4987/4987 [==============================] - 1479s 296ms/step - loss: 0.0622 - accuracy: 0.9022\n"
          ],
          "name": "stdout"
        },
        {
          "output_type": "execute_result",
          "data": {
            "text/plain": [
              "<tensorflow.python.keras.callbacks.History at 0x7fe019671f90>"
            ]
          },
          "metadata": {
            "tags": []
          },
          "execution_count": 30
        }
      ]
    },
    {
      "cell_type": "code",
      "metadata": {
        "id": "8YnBy8WCw2bx"
      },
      "source": [
        "submission = pd.read_csv(path + 'sample_submission.csv')\n",
        "y_pred = model.predict(test_padded)\n",
        "submission[[\"toxic\", \"severe_toxic\", \"obscene\", \"threat\", \"insult\", \"identity_hate\"]] = y_pred\n",
        "submission.to_csv('submission_bi_lstm_.csv', index=False)"
      ],
      "execution_count": 31,
      "outputs": []
    }
  ]
}